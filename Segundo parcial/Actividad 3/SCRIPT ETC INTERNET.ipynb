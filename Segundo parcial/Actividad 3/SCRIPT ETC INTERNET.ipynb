{
 "cells": [
  {
   "cell_type": "markdown",
   "id": "4630154b",
   "metadata": {},
   "source": []
  },
  {
   "cell_type": "code",
   "execution_count": null,
   "id": "7a5750b0-948c-4db5-a863-3715417f7e81",
   "metadata": {
    "scrolled": true
   },
   "outputs": [],
   "source": [
    "!pip install matplotlib mysql-connector-python openpyxl"
   ]
  },
  {
   "cell_type": "code",
   "execution_count": null,
   "id": "3c094046-bf66-438d-aeeb-07d2dc0f789a",
   "metadata": {},
   "outputs": [],
   "source": [
    "import subprocess\n",
    "import re\n",
    "import mysql.connector\n",
    "import pandas as pd\n",
    "import matplotlib.pyplot as plt\n",
    "from datetime import datetime"
   ]
  },
  {
   "cell_type": "code",
   "execution_count": null,
   "id": "de1e9972-f123-40e4-83e4-8961588a8787",
   "metadata": {},
   "outputs": [],
   "source": [
    "# Funcion para medir el ping a través de un subproceso\n",
    "\n",
    "def medir_ping(host,count):\n",
    "    ping_output = subprocess.run(\n",
    "        [\"ping\", \"-c\",str(count), host],capture_output=True,text=True\n",
    "    )\n",
    "\n",
    "    ping_times = re.findall(r\"time=(\\d+\\.\\d+)\",ping_output.stdout)\n",
    "    \n",
    "    return list(map(float,ping_times))\n",
    "\n",
    "\n",
    "#tiempo_ping = medir_ping(host_test,10)\n",
    "#[22.401, 18.037, 17.588, 36.65, 17.619, 20.051, 17.688, 20.033, 17.613, 22.042]"
   ]
  },
  {
   "cell_type": "code",
   "execution_count": null,
   "id": "4b9096c0-0382-4c4c-815e-2f5edd9e7704",
   "metadata": {},
   "outputs": [],
   "source": [
    "# Función para graficar el tiempo\n",
    "\n",
    "def graficar_ping(ping_times):\n",
    "    plt.plot(ping_times)\n",
    "    plt.title(\"Ping a Google\")\n",
    "    plt.xlabel(\"Número de ping\")\n",
    "    plt.ylabel(\"Tiempo de respuesta (ms)\")\n",
    "    plt.show()"
   ]
  },
  {
   "cell_type": "code",
   "execution_count": null,
   "id": "ac34644a-fb99-4528-a64f-7e1c43a19252",
   "metadata": {},
   "outputs": [],
   "source": [
    "# Función para insertar datos en la base de datos mysql\n",
    "def insertar_en_mysql(host, ping_times):\n",
    "    conn = mysql.connector.connect(\n",
    "        host=\"localhost\", \n",
    "        user=\"root\", \n",
    "        password=\"root\", \n",
    "        database=\"diccionario_db\"\n",
    "    )\n",
    "\n",
    "    cursor = conn.cursor()\n",
    "\n",
    "    cursor.execute(\"CREATE TABLE IF NOT EXISTS ping_data (id_ping_data INT AUTO_INCREMENT PRIMARY KEY, timestamp DATETIME, host VARCHAR(255), ping_time FLOAT)\")\n",
    "\n",
    "    # Insertar datos en la base de datos\n",
    "\n",
    "    for ping_time in ping_times:\n",
    "        timestamp = datetime.now().strftime(\"%Y-%m-%d %H:%M:%S\")\n",
    "        insert_query = (\"INSERT INTO ping_data (timestamp,host,ping_time) VALUES (%s,%s,%s)\")\n",
    "\n",
    "        cursor.execute(insert_query,(timestamp,host,ping_time))\n",
    "\n",
    "    conn.commit()\n",
    "    cursor.close()\n",
    "    conn.close()"
   ]
  },
  {
   "cell_type": "code",
   "execution_count": null,
   "id": "6dde2980-de1b-45bf-b547-11ef3b9b018c",
   "metadata": {},
   "outputs": [],
   "source": [
    "# Función para crear el excel\n",
    "\n",
    "def crear_excel(ping_times):\n",
    "    df = pd.DataFrame({\"Ping\":ping_times})\n",
    "    df.to_excel(\"ping_data.xlsx\", index=False)"
   ]
  },
  {
   "cell_type": "code",
   "execution_count": null,
   "id": "e5954401-3d2e-4f6d-9c94-330a3ee90f66",
   "metadata": {},
   "outputs": [],
   "source": [
    "# Configuración\n",
    "host = \"google.com\"\n",
    "ping_count = 10"
   ]
  },
  {
   "cell_type": "code",
   "execution_count": null,
   "id": "eabadcc5-3473-4d36-b413-50ff07d79cee",
   "metadata": {},
   "outputs": [],
   "source": [
    "# Funciones ejecutadas\n",
    "\n",
    "#medir ping\n",
    "ping_times = medir_ping(host,ping_count)\n",
    "\n",
    "# graficar ping\n",
    "graficar_ping(ping_times)\n",
    "\n",
    "# insertar a la base de datos\n",
    "insertar_en_mysql(host,ping_times)\n",
    "\n",
    "# crear EXCEl\n",
    "\n",
    "crear_excel(ping_times)"
   ]
  }
 ],
 "metadata": {
  "kernelspec": {
   "display_name": "Python 3 (ipykernel)",
   "language": "python",
   "name": "python3"
  },
  "language_info": {
   "codemirror_mode": {
    "name": "ipython",
    "version": 3
   },
   "file_extension": ".py",
   "mimetype": "text/x-python",
   "name": "python",
   "nbconvert_exporter": "python",
   "pygments_lexer": "ipython3",
   "version": "3.9.13"
  }
 },
 "nbformat": 4,
 "nbformat_minor": 5
}
