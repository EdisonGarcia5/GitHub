{
  "cells": [
    {
      "cell_type": "code",
      "execution_count": null,
      "metadata": {
        "colab": {
          "base_uri": "https://localhost:8080/"
        },
        "id": "J0E9-eclhFRY",
        "outputId": "9549bd15-b735-4f78-e04f-6dafe066cb13"
      },
      "outputs": [],
      "source": [
        "import requests\n",
        "from bs4 import BeautifulSoup\n",
        "import json\n",
        "\n",
        "url = 'https://pueblosoriginarios.com/lenguas/mayas.php'\n",
        "\n",
        "response = requests.get(url)\n",
        "\n",
        "if response.status_code == 200:\n",
        "\n",
        "  soup = BeautifulSoup(response.text,'html.parser')\n",
        "\n",
        "  table = soup.find('table',{'id':'diccionario'})\n",
        "\n",
        "  rows = table.find_all('tr')\n",
        "\n",
        "  diccionario_data = []\n",
        "\n",
        "  for row in rows[1:]:\n",
        "    cols = row.find_all('td')\n",
        "\n",
        "    if len(cols) == 2:\n",
        "      maya_word = cols[0].text.strip()\n",
        "      spanish_word = cols[1].text.strip()\n",
        "      diccionario_data.append({'Maya':maya_word, 'Español':spanish_word})\n",
        "\n",
        "  json_data = json.dumps(diccionario_data, indent=4, ensure_ascii=False)\n",
        "\n",
        "  with open('diccionario_maya.json', 'w', encoding='utf-8') as file:\n",
        "    file.write(json_data)\n",
        "\n",
        "  print(\"Datos extraidos y guardados en diccionario_maya.json\")\n",
        "\n",
        "else:\n",
        "\n",
        "  print(\"error al conectarse a la web\")\n",
        "\n"
      ]
    },
    {
      "cell_type": "code",
      "execution_count": null,
      "metadata": {
        "colab": {
          "base_uri": "https://localhost:8080/"
        },
        "id": "ByLvzSz9pyOg",
        "outputId": "c2ca0981-9d3a-457f-cd38-5f5408846743"
      },
      "outputs": [],
      "source": [
        "import pandas as pd\n",
        "\n",
        "# Cargar los datos desde archivo json\n",
        "with open('diccionario_maya.json','r', encoding='utf-8') as file:\n",
        "  diccionario_data = json.load(file)\n",
        "\n",
        "# Crear un dataframe\n",
        "df = pd.DataFrame(diccionario_data)\n",
        "\n",
        "# Crear el excel a partir del DataFrame\n",
        "df.to_excel('diccionario_maya.xlsx', index=False)\n",
        "\n",
        "print(\"Datos guardados en el diccionario_maya.xlsx\")"
      ]
    },
    {
      "cell_type": "code",
      "execution_count": null,
      "metadata": {
        "id": "Uk7Ynldps9Oq"
      },
      "outputs": [],
      "source": [
        "import pandas as pd\n",
        "import json\n",
        "\n",
        "# Cargar los datos desde archivo json\n",
        "with open('diccionario_maya.json','r', encoding='utf-8') as file:\n",
        "  diccionario_data = json.load(file)\n",
        "\n",
        "# Crear un dataframe\n",
        "df = pd.DataFrame(diccionario_data)\n",
        "\n",
        "# 1. Estadisticas descriptiva\n",
        "\n",
        "descripcion_maya = df['Maya'].describe()\n",
        "descripcion_espanol = df['Español'].describe()\n",
        "\n",
        "print(\"Estadistica descriptiva de las palabras Maya\")\n",
        "print(descripcion_maya)\n",
        "\n",
        "print(\"Estadistica descriptiva de las palabras Español\")\n",
        "print(descripcion_espanol)\n",
        "\n",
        "#2. filtrar datos\n",
        "\n",
        "palabras_con_a = df[df['Maya'].str.startswith('a',na=False)]\n",
        "\n",
        "print(\"Palabras que comienzan con 'a' : \")\n",
        "print(palabras_con_a)\n",
        "\n",
        "#3. ordenar datos\n",
        "\n",
        "df_ordenado = df.sort_values(by='Maya', key=lambda x: x.str.len(),ascending=True)\n",
        "\n",
        "print(\"Palabras Ordenadas :\")\n",
        "print(df_ordenado)\n",
        "\n",
        "#4. Contar duplicados\n",
        "\n",
        "duplicados_maya = df[df.duplicated(subset='Maya', keep=False)]\n",
        "\n",
        "print(\"Palabras Duplicadas en Maya\")\n",
        "print(duplicados_maya)\n"
      ]
    },
    {
      "cell_type": "code",
      "execution_count": null,
      "metadata": {
        "colab": {
          "base_uri": "https://localhost:8080/"
        },
        "id": "67HVY9QhsqGC",
        "outputId": "b7d30195-7549-4d7f-bbb6-8bd57ce39d2f"
      },
      "outputs": [],
      "source": [
        "!pip install mysql.connector"
      ]
    },
    {
      "cell_type": "code",
      "execution_count": null,
      "metadata": {
        "id": "nJizTqeXtHlv"
      },
      "outputs": [],
      "source": [
        "import mysql.connector\n",
        "import json\n",
        "\n",
        "#CONECTAR A LA BDATOS\n",
        "conn = mysql.connector.connect(\n",
        "    host=\"mysql-edisong.alwaysdata.net\",\n",
        "    user=\"edisong_us\",\n",
        "    password=\"pixel399\",\n",
        "    database=\"edisong_us\"\n",
        ")\n",
        "\n",
        "#VARIABLE DE CONSULTA A LA BASE DEDATOS\n",
        "cursor = conn.cursor()\n",
        "\n",
        "#CARGAR EL ARCHIVO JSON\n",
        "with open ('diccionario_maya.json', 'r', encoding = 'utf-8') as file:\n",
        "  diccionario_data = json.load(file)\n",
        "\n",
        "for palabra in diccionario_data:\n",
        "  maya = palabra ['Maya']\n",
        "  espanol = palabra['Español']\n",
        "  insert_query = \"INSERT INTO diccionario_json (maya,espanol) VALUES (%s,%s)\"\n",
        "  cursor.execute(insert_query, (maya,espanol))\n",
        "\n",
        "conn.commit()\n",
        "cursor.close()\n",
        "conn.close()"
      ]
    },
    {
      "cell_type": "code",
      "execution_count": null,
      "metadata": {},
      "outputs": [],
      "source": [
        "import mysql.connector\n",
        "import pandas as pd\n",
        "\n",
        "#CONECTAR A LA BDATOS\n",
        "conn = mysql.connector.connect(\n",
        "    host=\"mysql-edisong.alwaysdata.net\",\n",
        "    user=\"edisong_us\",\n",
        "    password=\"pixel399\",\n",
        "    database=\"edisong_us\"\n",
        ")\n",
        "\n",
        "#VARIABLE DE CONSULTA A LA BASE DEDATOS\n",
        "cursor = conn.cursor()\n",
        "\n",
        "#CARGAR datos desde el archivo xlsx\n",
        "df_excel = pd.read_excel ('diccionario_maya.xlsx')\n",
        "\n",
        "for index, row in df_excel.iterrows ():\n",
        "  maya = row ['Maya']\n",
        "  espanol = row['Español']\n",
        "  insert_query = \"INSERT INTO diccionario_xlsx (maya,espanol) VALUES (%s,%s)\"\n",
        "  cursor.execute(insert_query, (maya,espanol))\n",
        "\n",
        "conn.commit()\n",
        "cursor.close()\n",
        "conn.close()\n",
        "\n",
        "\n"
      ]
    },
    {
      "cell_type": "code",
      "execution_count": null,
      "metadata": {},
      "outputs": [],
      "source": [
        "import mysql.connector\n",
        "import pandas as pd\n",
        "\n",
        "#CONECTAR A LA BDATOS\n",
        "conn = mysql.connector.connect(\n",
        "    host=\"mysql-edisong.alwaysdata.net\",\n",
        "    user=\"edisong_us\",\n",
        "    password=\"pixel399\",\n",
        "    database=\"edisong_us\"\n",
        ")\n",
        "\n",
        "#VARIABLE DE CONSULTA A LA BASE DEDATOS\n",
        "cursor = conn.cursor()\n",
        "\n",
        "# Ejecuta una consulta SQL para seleccionar las columnas maya y espanol de la tabla diccionario_json\n",
        "cursor.execute(\"SELECT maya, espanol FROM diccionario_json\")\n",
        "\n",
        "# recupera todos los resultados de la consulta ejecutada anteriormente.\n",
        "resultados = cursor.fetchall()\n",
        "\n",
        "# Itera sobre los resultados recuperados y Imprime los valores de maya y espanol.\n",
        "for fila in resultados:\n",
        "  maya, espanol = fila\n",
        "  print(f\"Maya: {maya}, ---------- Español: {espanol}\")\n",
        "\n",
        "# Cierra el cursor y la conexión a la base de datos una vez que se hayan completado todas las operaciones necesarias.\n",
        "cursor.close()\n",
        "conn.close()"
      ]
    }
  ],
  "metadata": {
    "colab": {
      "authorship_tag": "ABX9TyOL1fidqCRWG7MOo2+s/q4+",
      "history_visible": true,
      "include_colab_link": true,
      "provenance": []
    },
    "kernelspec": {
      "display_name": "Python 3",
      "name": "python3"
    },
    "language_info": {
      "codemirror_mode": {
        "name": "ipython",
        "version": 3
      },
      "file_extension": ".py",
      "mimetype": "text/x-python",
      "name": "python",
      "nbconvert_exporter": "python",
      "pygments_lexer": "ipython3",
      "version": "3.9.13"
    }
  },
  "nbformat": 4,
  "nbformat_minor": 0
}
